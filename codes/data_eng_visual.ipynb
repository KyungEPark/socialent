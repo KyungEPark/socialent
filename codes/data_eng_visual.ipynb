{
 "cells": [
  {
   "cell_type": "markdown",
   "id": "80514af4",
   "metadata": {},
   "source": []
  },
  {
   "cell_type": "markdown",
   "id": "dd092623",
   "metadata": {},
   "source": [
    "### Data check"
   ]
  },
  {
   "cell_type": "code",
   "execution_count": null,
   "id": "a1a3e669",
   "metadata": {},
   "outputs": [],
   "source": [
    "import pandas as pd\n",
    "\n",
    "data = pd.read_parquet('socialent/data/raw/texts.parquet')\n",
    "print(data.head())\n",
    "print(data.shape)\n",
    "print(data.columns)\n",
    "print(data.dtypes)\n",
    "print(data.isnull().sum())\n",
    "print(data.describe())\n",
    "print(data.info())\n"
   ]
  },
  {
   "cell_type": "markdown",
   "id": "061a0a32",
   "metadata": {},
   "source": [
    "### Validation check\n",
    "Checking agreeability between GT from Elisa and the LLM"
   ]
  },
  {
   "cell_type": "code",
   "execution_count": null,
   "id": "37c638f2",
   "metadata": {},
   "outputs": [],
   "source": [
    "import pandas as pd\n",
    "\n",
    "data = pd.read_parquet('./data/output/transparency_pred_Qwen3-8B_pred_reason.parquet')"
   ]
  }
 ],
 "metadata": {
  "language_info": {
   "name": "python"
  }
 },
 "nbformat": 4,
 "nbformat_minor": 5
}
